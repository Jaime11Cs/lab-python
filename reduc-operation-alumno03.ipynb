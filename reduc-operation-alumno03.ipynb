{
 "cells": [
  {
   "cell_type": "markdown",
   "id": "f942d288-be01-42cd-9b84-83529c6769be",
   "metadata": {},
   "source": [
    "### Reduction operation: the sum of the numbers in the range [0, a)"
   ]
  },
  {
   "cell_type": "code",
   "execution_count": null,
   "id": "8f550358-8eaf-48ad-a285-5af185d6e62b",
   "metadata": {},
   "outputs": [],
   "source": [
    "import sys\n",
    "#captura el parámetro desde la línea de comandos\n",
    "if len(sys.argv) > 1:\n",
    "    value=int(sys.argv[1]) #para converir el argumento de la línea de comandos a entero\n",
    "else:\n",
    "    value = 10**6 #Valor predeterminado si no se pasa ningún parámetro\n",
    "print(f\"El valor de 'value' es: {value}\")"
   ]
  },
  {
   "cell_type": "code",
   "execution_count": 6,
   "id": "496946fa-2a28-4c1d-8a6a-2ee0b8fd8ced",
   "metadata": {},
   "outputs": [
    {
     "name": "stdout",
     "output_type": "stream",
     "text": [
      "Time taken by reduction operation: 0.26201319694519043 seconds\n",
      "255 ms ± 661 µs per loop (mean ± std. dev. of 2 runs, 1 loop each)\n",
      "\n",
      " \t Computing the sum of numbers in the range [0, value): 499999500000\n",
      "\n"
     ]
    }
   ],
   "source": [
    "import time\n",
    "\n",
    "def reduc_operation(a):\n",
    "    \"\"\"Compute the sum of the numbers in the range [0, a).\"\"\"\n",
    "    x = 0\n",
    "    for i in range(a):\n",
    "        x += i\n",
    "    return x\n",
    "\n",
    "# Secuencial\n",
    "initialTime = time.time()\n",
    "suma = reduc_operation(value)\n",
    "finalTime = time.time()\n",
    "\n",
    "print(\"Time taken by reduction operation:\", (finalTime - initialTime), \"seconds\")\n",
    "\n",
    "# Utilizando las operaciones mágicas de ipython\n",
    "%timeit -r 2 reduc_operation(value)\n",
    "\n",
    "print(f\"\\n \\t Computing the sum of numbers in the range [0, value): {suma}\\n\")"
   ]
  },
  {
   "cell_type": "code",
   "execution_count": 7,
   "id": "3c6faf2a-6986-4023-be66-672c3be5d193",
   "metadata": {},
   "outputs": [
    {
     "name": "stdout",
     "output_type": "stream",
     "text": [
      "Tiempo tardado mediante el bucle for: 0.43845224380493164 segundos\n",
      "Tiempo tardado con la función sum: 0.031723976135253906 segundos\n"
     ]
    }
   ],
   "source": [
    "\n",
    "# Creamos una lista de 10^6 elementos\n",
    "lista = list(range(10**6))\n",
    "\n",
    "# Método 1: Usar un bucle for para sumar los elementos\n",
    "start_time = time.time()\n",
    "x = 0\n",
    "for i in lista:\n",
    "    x += i\n",
    "end_time = time.time()\n",
    "\n",
    "# Calcular el tiempo total\n",
    "time_bucle_for = end_time - start_time\n",
    "\n",
    "# Mostrar el resultado\n",
    "print(\"Tiempo tardado mediante el bucle for:\", time_bucle_for, \"segundos\")\n",
    "\n",
    "# Método 2: Mediante la función sum\n",
    "start_time = time.time()\n",
    "x = sum(lista)\n",
    "end_time = time.time()\n",
    "\n",
    "# Calcular el tiempo total\n",
    "tiempo_funcion_sum = end_time - start_time\n",
    "\n",
    "# Mostrar el resultado\n",
    "print(\"Tiempo tardado con la función sum:\", tiempo_funcion_sum, \"segundos\")"
   ]
  },
  {
   "cell_type": "code",
   "execution_count": 8,
   "id": "ef398d53-7320-48fb-94ed-d22b32f6d770",
   "metadata": {},
   "outputs": [
    {
     "name": "stdout",
     "output_type": "stream",
     "text": [
      "El tiempo que tarda con el bucle for es: 0.9390254020690918 segundos\n",
      "El tiempo que tarda con la función sum es: 0.0034427642822265625 segundos\n"
     ]
    }
   ],
   "source": [
    "import numpy as np\n",
    "array = np.array(range(value)) \n",
    "\n",
    "# Método 1: Usar un bucle for para sumar los elementos\n",
    "start_time = time.time()\n",
    "x = 0\n",
    "for i in array:\n",
    "    x += i\n",
    "end_time = time.time()\n",
    "\n",
    "# Calcular el tiempo total\n",
    "tiempo_tardado_for = end_time - start_time\n",
    "\n",
    "# Mostrar el resultado\n",
    "print(\"El tiempo que tarda con el bucle for es:\", tiempo_tardado_for, \"segundos\")\n",
    "\n",
    "# Método 2: Usar la función np.sum() para sumar los elementos\n",
    "start_time = time.time()\n",
    "suma_array = np.sum(array)\n",
    "end_time = time.time()\n",
    "\n",
    "# Calcular el tiempo total\n",
    "tiempo_tardado_sum = end_time - start_time\n",
    "\n",
    "# Mostrar el resultado\n",
    "print(\"El tiempo que tarda con la función sum es:\", tiempo_tardado_sum, \"segundos\")"
   ]
  },
  {
   "cell_type": "code",
   "execution_count": null,
   "id": "8d168b04-7060-48b6-89da-f3dd79f8765c",
   "metadata": {},
   "outputs": [],
   "source": [
    "#El código original tarda 0.23s, lo cual no es mucho\n",
    "#Mediante listas el tiempo que tarda aumenta un poco, mediante el bucle for el tiempo que tarda es casi el doble, mientras que mediante el uso de la función sum el tiempo que tarda es mucho menos se reduce unas 10 veces.\n",
    "#Mientras que mediante el uso de numpy, como hemos visto el bucle for es muy lento, y tarda 0.9s. Sin embargo, al usar la función sum el tiempo se reduce casi unas 400 veces. Por lo tanto lo más optimo sería hacer sum con numpy.\n",
    "#Al final hemos logrado que el tiempo se reduzca en 121 veces respecto al código original(Pasando de 0.23 segundos a 0.0014 segundos)"
   ]
  },
  {
   "cell_type": "code",
   "execution_count": 9,
   "id": "98fcf729-f844-4cdd-9310-26ec850b719f",
   "metadata": {},
   "outputs": [
    {
     "name": "stdout",
     "output_type": "stream",
     "text": [
      "El tiempo que tarda con el bucle for es: 0.5349583625793457 segundos\n",
      "El tiempo que tarda con la función sum es: 0.7061359882354736 segundos\n"
     ]
    }
   ],
   "source": [
    "import numba\n",
    "array = np.arange(value)\n",
    "\n",
    "# Método 1: Usar un bucle for con Numba\n",
    "@numba.njit\n",
    "def suma_for(array):\n",
    "    x = 0\n",
    "    for i in array:\n",
    "        x += i\n",
    "    return x\n",
    "\n",
    "start_time = time.time()\n",
    "x = suma_for(array)  # Llamar a la función optimizada\n",
    "end_time = time.time()\n",
    "\n",
    "# Calcular el tiempo total\n",
    "tiempo_tardado_for = end_time - start_time\n",
    "\n",
    "# Mostrar el resultado\n",
    "print(\"El tiempo que tarda con el bucle for es:\", tiempo_tardado_for, \"segundos\")\n",
    "\n",
    "\n",
    "# Método 2: Usar la función np.sum() con Numba\n",
    "@numba.njit\n",
    "def suma_numpy(array):\n",
    "    return np.sum(array)\n",
    "\n",
    "start_time = time.time()\n",
    "suma_array = suma_numpy(array)  # Llamar a la función optimizada\n",
    "end_time = time.time()\n",
    "\n",
    "# Calcular el tiempo total\n",
    "tiempo_tardado_sum = end_time - start_time\n",
    "\n",
    "# Mostrar el resultado\n",
    "print(\"El tiempo que tarda con la función sum es:\", tiempo_tardado_sum, \"segundos\")"
   ]
  },
  {
   "cell_type": "code",
   "execution_count": null,
   "id": "9f49b661-ed07-44b5-9658-87ef1d1ab6b4",
   "metadata": {},
   "outputs": [],
   "source": [
    "#El tiempo del bucle for con numba ha mejorado, pasando de tardar 0.9 segundos a 0.46\n",
    "#Sin embargo, el tiempo que tarda con la función np.sum ha empeorado mucho pasando de 0.0019 a 0.43 segundos. Esto se debe a que la función np.sum ya está optimizada y lo que hace el paquete numba es intentar volver a compilar np.sum(), que ya está optimizado.\n",
    "#Además, la primera ejecución será mucho más lenta, porque está compilando, mientras que la segunda será muchísimo más rápidad porque ya está compilad"
   ]
  },
  {
   "cell_type": "code",
   "execution_count": 11,
   "id": "33f9dbd4-9bd1-402d-8f19-f939c532f20f",
   "metadata": {},
   "outputs": [
    {
     "name": "stdout",
     "output_type": "stream",
     "text": [
      "El tiempo que tarda con el bucle for es: 0.0203 segundos\n",
      "El tiempo que tarda con la función sum es: 0.0196 segundos\n"
     ]
    }
   ],
   "source": [
    "array = np.arange(value)\n",
    "\n",
    "# Método 1: Usar un bucle for con Numba\n",
    "@numba.njit(cache=True)\n",
    "def suma_for(array):\n",
    "    x = 0\n",
    "    for i in array:\n",
    "        x += i\n",
    "    return x\n",
    "#Medir el tiempo de ejecución\n",
    "start_time = time.time()\n",
    "x = suma_for(array)  \n",
    "end_time = time.time()\n",
    "\n",
    "# Calcular el tiempo total\n",
    "tiempo_tardado_for = end_time - start_time\n",
    "print(f\"El tiempo que tarda con el bucle for es: {tiempo_tardado_for:.4f} segundos\")\n",
    "\n",
    "\n",
    "# Método 2: Usar la función np.sum() con Numba\n",
    "@numba.njit(cache=True)\n",
    "def suma_numpy(array):\n",
    "   return np.sum(array)\n",
    "\n",
    "start_time = time.time()\n",
    "suma_array = suma_numpy(array)  \n",
    "end_time = time.time()\n",
    "\n",
    "# Calcular el tiempo total\n",
    "tiempo_tardado_sum = end_time - start_time\n",
    "print(f\"El tiempo que tarda con la función sum es: {tiempo_tardado_sum:.4f} segundos\")"
   ]
  },
  {
   "cell_type": "code",
   "execution_count": null,
   "id": "8600a6fd-82b5-49aa-9f04-40e2006f1a6a",
   "metadata": {},
   "outputs": [],
   "source": [
    "#Si pongo cache=true se acelera muchísimo porque cada compilación se guarada, acelera el programa X200 en la segunda ejecución y posteriores"
   ]
  }
 ],
 "metadata": {
  "kernelspec": {
   "display_name": "Python 3 (ipykernel)",
   "language": "python",
   "name": "python3"
  },
  "language_info": {
   "codemirror_mode": {
    "name": "ipython",
    "version": 3
   },
   "file_extension": ".py",
   "mimetype": "text/x-python",
   "name": "python",
   "nbconvert_exporter": "python",
   "pygments_lexer": "ipython3",
   "version": "3.10.9"
  }
 },
 "nbformat": 4,
 "nbformat_minor": 5
}
